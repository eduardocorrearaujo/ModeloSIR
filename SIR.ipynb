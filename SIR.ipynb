{
  "nbformat": 4,
  "nbformat_minor": 0,
  "metadata": {
    "colab": {
      "name": "SIR.ipynb",
      "provenance": [],
      "toc_visible": true,
      "authorship_tag": "ABX9TyPONzJgoqNebYWb486IJc6r",
      "include_colab_link": true
    },
    "kernelspec": {
      "name": "python3",
      "display_name": "Python 3"
    }
  },
  "cells": [
    {
      "cell_type": "markdown",
      "metadata": {
        "id": "view-in-github",
        "colab_type": "text"
      },
      "source": [
        "<a href=\"https://colab.research.google.com/github/eduardocorrearaujo/ModeloSIR/blob/master/SIR.ipynb\" target=\"_parent\"><img src=\"https://colab.research.google.com/assets/colab-badge.svg\" alt=\"Open In Colab\"/></a>"
      ]
    },
    {
      "cell_type": "markdown",
      "metadata": {
        "id": "_OE9oGI6IDTF",
        "colab_type": "text"
      },
      "source": [
        "# Modelo Epidemiológico **SIR**\n",
        "A pandemia do COVID-19, também chamado de \"o novo coronavírus\", colocou em evidência a importância da matemática em nosso cotidiano. Tenho certeza que nesse período você já ouviu falar sobre projeções do avanço da doença e pico da curva de infectados. Porém, você sabe como a matemática se relaciona com esses termos?\n",
        "\n",
        "<p align=\"center\">\n",
        "<img alt=\"covid\" width=\"25%\" src=\"https://github.com/eduardocorrearaujo/ModeloSIR/blob/master/imcovid.png?raw=true\">\n",
        "</p>\n",
        "<center>\n",
        "<a href=\"https://br.freepik.com/fotos-vetores-gratis/medico\">Médico vetor criado por freepik - br.freepik.com</a>\n",
        "</center>\n",
        "\n",
        "Para compreender esses termos e realizar essas análise podemos utilizar modelos matemáticos, que são, a grosso modo, uma simplificação da realidade. No contexto de epidemias podem ser aplicados modelos compartimentais, que dividem a população em \"caixinhas\" para assim, tentar entender o comportamento de uma doença no decorrer do tempo. Um dos modelos compartimentais mais simples é o modelo epidemiológico **SIR**, proposto em 1927 por Kermack e McKendrick.\n",
        "\n",
        "Esse modelo divide a população em 3 grupos, **Suscetíveis (S)**, **Infectados (I)** e **Recuperados (R)**. Suscetíveis  representam a parcela da população que\n",
        "        não foi infectada, os infectados representam as pessoas que estão infectadas com o vírus, transmitindo para outras pessoas e os recuperados são aqueles que\n",
        "        já se curaram, ou seja, estavam infectados, mas agora estão curados. Veja o diagrama abaixo.\n",
        "<p align=\"center\">\n",
        "<img alt=\"sir\" width=\"40%\" src=\"https://github.com/eduardocorrearaujo/ModeloSIR/blob/master/modeloSIR.png?raw=true\">\n",
        "</p>\n",
        "\n",
        "No digrama temos duas letras $\\beta$ e $\\gamma$ elas representam a taxa em que os indivíduos se movem de um grupo para o outro. O\n",
        "$\\beta$ representa a **taxa de contágio**, ela vai ser a responsável por \"mover\" uma pessoa do grupo dos suscetíveis para o grupo dos infectados. Ela está relacionada\n",
        "a probabilidade de uma transmissão ocorrer decorrente do contato entre um indivíduo infectado e um indivíduo suscetível.  O $\\gamma$ representa a **taxa  de recuperação**, ela é responsável por \"mover\"\n",
        "o indivíduo do grupo dos infectados para o grupo dos recuperados. O inverso do $\\gamma$, ($1/\\gamma$) é muito importante, ele representa o **período infeccioso médio**, ou seja ele\n",
        "nos fornece uma estimativa para quanto tempo o indivíduo estará infectando outras pessoas.\n",
        "\n",
        "Matematicamente, o modelo SIR é definido pelo seguinte sistema de equações diferenciais ordinárias:\n",
        "\n",
        "\\begin{cases}\n",
        "S'(t) = -\\dfrac{\\beta S(t) I(t)}{N}\\\\\n",
        "I'(t) = \\dfrac{\\beta S(t) I(t)}{N} -  \\gamma I(t)\\\\\n",
        "R'(t) = \\gamma I(t)\n",
        "\\end{cases}\n",
        "                \n",
        "Sendo $\\beta$ a taxa de contágio, $\\gamma$ a taxa de recuperação e $N$ a população total da região que estamos analisando. \n",
        "\n",
        "Esse modelo nos fornece uma informação muito importante sobre o desenvolvimento de uma epidemia. Ele nos fornece uma estimativa  da **taxa básica de\n",
        "reprodução da doença/vírus**, que no caso do COVID-19 seria uma média de quantas pessoas podem ser infectadas por um indivíduo infectado em contato com os suscetíveis. Essa taxa é dada por $R_0 = \\dfrac{\\beta}{\\gamma}$,\n",
        "sendo importante ressaltar que $\\dfrac{1}{\\gamma}$ é o perído infeccioso médio e $\\beta$ a taxa de contágio.\n",
        "\n",
        "Veja abaixo como podemos implementar esse modelo utilizando a linguagem de programação **python**. Nesse caso, como esse modelo não tem solução analítica conhecida vamos utilizar o python para gerar uma solução númerica utilizando o comando `odeint` e vamos plotar essa solução utilizando a biblioteca `plotly`.\n",
        "\n"
      ]
    },
    {
      "cell_type": "code",
      "metadata": {
        "id": "I3e8zBoDU7Pd",
        "colab_type": "code",
        "colab": {}
      },
      "source": [
        "#pacotes necessário para análise\n",
        "from scipy.integrate import odeint\n",
        "import numpy as np\n",
        "import plotly.graph_objects as go\n"
      ],
      "execution_count": 0,
      "outputs": []
    },
    {
      "cell_type": "markdown",
      "metadata": {
        "id": "bzX5I1tMdew9",
        "colab_type": "text"
      },
      "source": [
        "Define a função que irá fornecer a solução númerica do sistema de equações."
      ]
    },
    {
      "cell_type": "code",
      "metadata": {
        "id": "bYiW2q-UHNSC",
        "colab_type": "code",
        "colab": {}
      },
      "source": [
        "#Solução numérica do modelo SIR\n",
        "def SIR(t,beta,gama,N, i0,r0): \n",
        "    def dotSIR(y,t,beta,gama,N): # função que define o sistema de EDO's\n",
        "      S,I,R = y # # y é o vetor com as 3 equações S,I,R\n",
        "      dydt = [-beta*S*I/N,beta*S*I/N - gama*I, gama*I ] #vetor em que cada elemento é uma das equações\n",
        "      return dydt\n",
        "    #S = Pessoas que suscetíveis, ou seja, que podem ser infectadas.\n",
        "    #I = Pessoas que foram infectadas.\n",
        "    #R = Pessoas que se recuperaram.\n",
        "    #beta = Taxa de transmissão da doença.\n",
        "    #gama = Taxa de recuperação.\n",
        "    #N = População total.\n",
        "\n",
        "\n",
        "    # Como se trata de um sistema de EDO's precisamos das condições iniciais para resolvê-lo.\n",
        "    #Como esse modelo considera a populção constante vamos considerar s0 = N - i0 - r0\n",
        "    # N = população total.\n",
        "    #s0 = número inicial de pessoas Suscetíveis.\n",
        "    #i0 = número inicial de pessoas Infectadas.\n",
        "    #r0 = número inicial de pessoas Recuperadas.\n",
        "    s0 = N - i0 - r0\n",
        "    y0 = [s0,i0,r0] #vetor que armazena as condições iniciais do sistema\n",
        "\n",
        "    sol = odeint(dotSIR, y0,t, args=(beta,gama,N)) \n",
        "    #O comando responsável por encontrar a solução numérica é o odeint\n",
        "    # O comando retorna uma matriz com as colunas determinadas pelo número de equações, nesse caso 3 \n",
        "    # e com o número de linhas referentes ao intervalo de tempo considerado.\n",
        "    \n",
        "    S = sol[:,0] \n",
        "    # a primeira coluna da matriz sol é referente aos Suscetíves, que é a primeira equação do sistema.\n",
        "    I = sol[:,1] \n",
        "    # a segunda coluna da matriz é referente aos Infectados, que é a segunda equação do sistema.\n",
        "    R = sol[:,2] \n",
        "    # a terceira coluna da matriz é referente aos Recuperados, que é a terceira equação do sistema.\n",
        "    C = sol[:, 1] + sol[:,2] \n",
        "    #variável que armazena a soma dos Infectados + Recuperados com o tempo para podermos analisar o\n",
        "    #valor acumulado de pessoas infectadas no decorrer da epidemia\n",
        "\n",
        "    return S,I,R,C"
      ],
      "execution_count": 0,
      "outputs": []
    },
    {
      "cell_type": "markdown",
      "metadata": {
        "id": "E82uzbJlXsAN",
        "colab_type": "text"
      },
      "source": [
        "Agora que definimos a função que irá calcular a solução númerica do sistema, podemos definir as condições iniciais do problema e usar a biblioteca **plotly** para visualisarmos o resultado."
      ]
    },
    {
      "cell_type": "code",
      "metadata": {
        "id": "sLpO9FYbcdgY",
        "colab_type": "code",
        "outputId": "f5639fca-7989-4930-9540-cf28f829a86c",
        "colab": {
          "base_uri": "https://localhost:8080/",
          "height": 542
        }
      },
      "source": [
        "\n",
        "#Parâmetros para gerar a solução:\n",
        "beta = 0.18    #taxa de contágio\n",
        "gama = 0.047   # taxa de recuperação\n",
        "N = 1000       # população total\n",
        "i0 = 1         # número inicial de infectados\n",
        "r0 = 0         # número inicial de recuperados\n",
        "t = np.arange(180) \n",
        "#gera um vetor (0,1,2,3..,179) que representa o valores de t usados para gerar a solução.\n",
        "\n",
        "solucao = SIR(t,beta,gama,N, i0,r0) \n",
        "#variável que armazenará S,I,R,C que são os valores retornados pela função SIR,\n",
        "#como a função retorna um array com cada elemento sendo S,I,R,C para analisar cada solução separadamente  \n",
        "#vamos definir as seguintes variáveis\n",
        "S = solucao[0]  #Suscetíves\n",
        "I = solucao[1]  #Infectados\n",
        "R = solucao[2]  #Recuperados\n",
        "C = solucao[3]  #Casos Acumulados\n",
        "\n",
        "#cada uma das variáveis trace abaixo armazena o conjunto de pontos gerada pela função SIR que queremos plotar. \n",
        "#Veja que como queremos plotar 4 conjuntos de dados diferentes S,I,R,C armazenamos cada um deles em uma varíavel.\n",
        "trace1 = go.Scatter(x=t, y=S,mode='lines',name='Suscetíveis',) \n",
        "\n",
        "trace2 = go.Scatter(x=t, y=I, mode='lines',name='Infectados',)\n",
        "\n",
        "trace3 = go.Scatter(x=t, y=R, mode='lines', name='Recuperados',)\n",
        "\n",
        "trace4 = go.Scatter(x=t, y=C,mode='lines',name='Casos acumulados',)\n",
        "\n",
        "layout = go.Layout( title = 'Modelo SIR', #define o título do gráfico \n",
        "                  titlefont = {'family': 'Arial', 'size': 22,'color': '#7f7f7f'}, #define a fonte e cor e fonte do título\n",
        "                  xaxis = {'title': 'Dias'}, #título do eixo x\n",
        "                  yaxis = {'title': 'População'},  #título do eixo y\n",
        "                       )\n",
        "\n",
        "data=[trace1,trace2,trace3,trace4] #vetor que armazena os pontos que queremos plotar\n",
        "\n",
        "fig = go.Figure(data, layout = layout) #função que gera a figura\n",
        "       \n",
        "fig.update_layout(\n",
        "legend_orientation=\"h\", #define a localização da legenda\n",
        "legend=dict(\n",
        "         y=-0.15,       #coloca um recuo na legenda para que ela fique mais longe do título do eixo x.\n",
        "        ))\n",
        "\n",
        "fig.show() #mostra a figura\n",
        "\n",
        "R0 = beta/gama\n",
        "#Caso deseje que o R0 seja printado adicione o seguinte comando:\n",
        "#print('Para essas condições o R0 é:%f' %R0)\n"
      ],
      "execution_count": 5,
      "outputs": [
        {
          "output_type": "display_data",
          "data": {
            "text/html": [
              "<html>\n",
              "<head><meta charset=\"utf-8\" /></head>\n",
              "<body>\n",
              "    <div>\n",
              "            <script src=\"https://cdnjs.cloudflare.com/ajax/libs/mathjax/2.7.5/MathJax.js?config=TeX-AMS-MML_SVG\"></script><script type=\"text/javascript\">if (window.MathJax) {MathJax.Hub.Config({SVG: {font: \"STIX-Web\"}});}</script>\n",
              "                <script type=\"text/javascript\">window.PlotlyConfig = {MathJaxConfig: 'local'};</script>\n",
              "        <script src=\"https://cdn.plot.ly/plotly-latest.min.js\"></script>    \n",
              "            <div id=\"83e29f5f-90a7-4935-ac69-10e7d295b06e\" class=\"plotly-graph-div\" style=\"height:525px; width:100%;\"></div>\n",
              "            <script type=\"text/javascript\">\n",
              "                \n",
              "                    window.PLOTLYENV=window.PLOTLYENV || {};\n",
              "                    \n",
              "                if (document.getElementById(\"83e29f5f-90a7-4935-ac69-10e7d295b06e\")) {\n",
              "                    Plotly.newPlot(\n",
              "                        '83e29f5f-90a7-4935-ac69-10e7d295b06e',\n",
              "                        [{\"mode\": \"lines\", \"name\": \"Suscet\\u00edveis\", \"type\": \"scatter\", \"x\": [0, 1, 2, 3, 4, 5, 6, 7, 8, 9, 10, 11, 12, 13, 14, 15, 16, 17, 18, 19, 20, 21, 22, 23, 24, 25, 26, 27, 28, 29, 30, 31, 32, 33, 34, 35, 36, 37, 38, 39, 40, 41, 42, 43, 44, 45, 46, 47, 48, 49, 50, 51, 52, 53, 54, 55, 56, 57, 58, 59, 60, 61, 62, 63, 64, 65, 66, 67, 68, 69, 70, 71, 72, 73, 74, 75, 76, 77, 78, 79, 80, 81, 82, 83, 84, 85, 86, 87, 88, 89, 90, 91, 92, 93, 94, 95, 96, 97, 98, 99, 100, 101, 102, 103, 104, 105, 106, 107, 108, 109, 110, 111, 112, 113, 114, 115, 116, 117, 118, 119, 120, 121, 122, 123, 124, 125, 126, 127, 128, 129, 130, 131, 132, 133, 134, 135, 136, 137, 138, 139, 140, 141, 142, 143, 144, 145, 146, 147, 148, 149, 150, 151, 152, 153, 154, 155, 156, 157, 158, 159, 160, 161, 162, 163, 164, 165, 166, 167, 168, 169, 170, 171, 172, 173, 174, 175, 176, 177, 178, 179], \"y\": [999.0, 998.8077110507617, 998.588161548251, 998.3375041254002, 998.0513535894198, 997.7247134535776, 997.3518926733261, 996.926412211348, 996.440898705909, 995.8869661673942, 995.2550828033642, 994.53442201545, 993.7126966419237, 992.7759749320647, 991.7084773486505, 990.492353259809, 989.1074375604672, 987.5309871878493, 985.7373988213322, 983.697910175718, 981.3802887869555, 978.748514276465, 975.7624626831623, 972.3776046905692, 968.544733530652, 964.2097430617935, 959.3134820295087, 953.791716526526, 947.575239272116, 940.5901708501256, 932.7585039134857, 923.9989456493453, 914.2281151950893, 903.3621495838868, 891.3187622953371, 878.0197806371172, 863.3941598314129, 847.3814328029757, 829.9355040712458, 811.0286368894058, 790.6554194556785, 768.8364362161825, 745.6213243166233, 721.0908748962305, 695.357855278522, 668.5662889767431, 640.8890385021622, 612.5236758978388, 583.6868173738111, 554.6072038082552, 525.5180450157077, 496.6491319645732, 468.21931539472746, 440.4298569807787, 413.45906708817597, 387.45848654626985, 362.55070653434393, 338.8287659027444, 316.3569421621388, 295.1726646808052, 275.28924767906113, 256.6991330307627, 239.37736129615365, 223.28504042164568, 208.37263495510888, 194.58295642006146, 181.85378291306688, 170.1200788833322, 159.3158186715921, 149.37543277089395, 140.23491780706095, 131.8326542725526, 124.10997535897555, 117.01153247835161, 110.48549757932938, 104.4836395345573, 98.9613035621506, 93.87732024345895, 89.19386521092413, 84.87628607362637, 80.8929078451627, 77.21483252456999, 73.8157293626136, 70.67163838677887, 67.76077136442056, 65.06332309595297, 62.56130152160201, 60.23836148695073, 58.07965239218574, 56.071680915035216, 54.20218237283613, 52.46000409341425, 50.8349997900037, 49.31793316849254, 47.90039077482181, 46.57470330294421, 45.3338744382968, 44.17151656907961, 43.081793007106924, 42.0593658260404, 41.09934884663567, 40.19726541515833, 39.34901019220529, 38.550814893839984, 37.79921731087962, 37.09103344028691, 36.42333235294723, 35.793413491464534, 35.19878623201556, 34.637151352594316, 34.10638437799878, 33.60452041441165, 33.12974053957818, 32.680359357330715, 32.25481384507712, 31.851653110484225, 31.469529222844006, 31.10718876030546, 30.76346526780138, 30.43727217067568, 30.127596582925843, 29.833493551464898, 29.55408069979576, 29.28853356174171, 29.036081041789874, 28.796001585202845, 28.567619350794875, 28.35030096918857, 28.143452381819298, 27.946516059715456, 27.758968397839627, 27.580317309485075, 27.41010007316651, 27.247881256960447, 27.093250917568863, 26.945822829010083, 26.805232954476306, 26.671137916167353, 26.543213656245012, 26.4211542789701, 26.304670764146696, 26.193489966656305, 26.087353619242958, 25.98601735604398, 25.889249928012216, 25.79683235918547, 25.708557200069407, 25.624227881899344, 25.543658023483474, 25.466670857547108, 25.393098680888073, 25.32278230263069, 25.255570587356814, 25.191319985016214, 25.12989409802543, 25.071163304985564, 25.015004365573212, 24.96130008167767, 24.909938975487286, 24.860814956462285, 24.8138270413523, 24.7688791227062, 24.72587966435759, 24.684741468715735, 24.645381478637642, 24.60772054242551, 24.571683207162092, 24.537197549754893, 24.504194995502363, 24.472610135020883, 24.442380575540476, 24.413446801094405, 24.385752013114384, 24.359242001633337, 24.333865031088227, 24.309571707156355, 24.286314864001046, 24.264049466185025, 24.242732501372718, 24.222322880678387]}, {\"mode\": \"lines\", \"name\": \"Infectados\", \"type\": \"scatter\", \"x\": [0, 1, 2, 3, 4, 5, 6, 7, 8, 9, 10, 11, 12, 13, 14, 15, 16, 17, 18, 19, 20, 21, 22, 23, 24, 25, 26, 27, 28, 29, 30, 31, 32, 33, 34, 35, 36, 37, 38, 39, 40, 41, 42, 43, 44, 45, 46, 47, 48, 49, 50, 51, 52, 53, 54, 55, 56, 57, 58, 59, 60, 61, 62, 63, 64, 65, 66, 67, 68, 69, 70, 71, 72, 73, 74, 75, 76, 77, 78, 79, 80, 81, 82, 83, 84, 85, 86, 87, 88, 89, 90, 91, 92, 93, 94, 95, 96, 97, 98, 99, 100, 101, 102, 103, 104, 105, 106, 107, 108, 109, 110, 111, 112, 113, 114, 115, 116, 117, 118, 119, 120, 121, 122, 123, 124, 125, 126, 127, 128, 129, 130, 131, 132, 133, 134, 135, 136, 137, 138, 139, 140, 141, 142, 143, 144, 145, 146, 147, 148, 149, 150, 151, 152, 153, 154, 155, 156, 157, 158, 159, 160, 161, 162, 163, 164, 165, 166, 167, 168, 169, 170, 171, 172, 173, 174, 175, 176, 177, 178, 179], \"y\": [1.0, 1.1420250714228286, 1.3041730185770746, 1.4892802412487733, 1.7005785411565097, 1.941748797715182, 2.216981694683521, 2.531045733634911, 2.8893644434927506, 3.2981020586998575, 3.764259652672171, 4.295782293836399, 4.901677714820479, 5.5921473588013, 6.378730162527946, 7.274459316685793, 8.294031535583194, 9.453988133411602, 10.77290616293407, 12.271596804238358, 13.973306842746094, 15.90391723902541, 18.092130523626437, 20.569635962474592, 23.3712380791674, 26.534930173521925, 30.10188993891364, 34.11636944632002, 38.625446595927066, 43.67860027868447, 49.32706749309888, 55.62293840155062, 62.617945981442055, 70.3619119769492, 78.90082192655767, 88.27452076683977, 98.51404864079714, 109.63867363784385, 121.65272509134522, 134.54238419215895, 148.27264333889565, 162.78469432941637, 177.99403837863724, 193.7896172671493, 210.03423504926198, 226.56646771491242, 243.2041433966023, 259.7493352438079, 275.9946243990151, 291.730299611541, 306.7519421183163, 320.8678886745388, 333.90598995933175, 345.7192060349831, 356.18968583689747, 365.2311508689603, 372.7895689957731, 378.84225691521476, 383.39566335563575, 386.4821588522543, 388.1561731856103, 388.4900135309178, 387.56965259044466, 385.49071306754047, 382.3548124692016, 378.2663679763293, 373.3299104315429, 367.6479123134918, 361.31910195427065, 354.4372245893435, 347.09018786279694, 339.3595319489817, 331.32016715824966, 323.0403220167256, 314.5816528443177, 305.9994713753385, 297.34305649348187, 288.65602027187515, 279.97670532749356, 271.33859576067994, 262.7707314926604, 254.29810607747652, 245.94205974003611, 237.72063638006034, 229.64893080066358, 221.739409760014, 214.00219580999442, 206.44533848969624, 199.07505908247182, 191.89596747373622, 184.9112621980699, 178.12290895192368, 171.5318006203575, 165.13790060014094, 158.9403702163323, 152.93768280024597, 147.1277245821783, 141.50788451392359, 136.07513349594768, 130.8260943316162, 125.75710381681364, 120.86426704392193, 116.14350535898497, 111.59059820692815, 107.20121994524425, 102.97097185831532, 98.89541005842494, 94.97006973771252, 91.19048606485559, 87.55221230749262, 84.05083523414146, 80.6819884228284, 77.44136335902127, 74.3247189732448, 71.32788939089761, 68.4467905271524, 65.67742524012044, 63.015887634748914, 60.45836618204718, 58.001146404629715, 55.64061238216182, 53.3732478380208, 51.19563686587145, 49.10446379873433, 47.09651313925068, 45.16866858236161, 43.317912303591285, 41.54132352658689, 39.836077202387074, 38.199442306494745, 36.628780073636584, 35.12154212113204, 33.675268372875315, 32.28758506857301, 30.956202525106534, 29.67891303636347, 28.453588568770996, 27.278178637179835, 26.150708045798957, 25.069274504703348, 24.032046610237813, 23.037261531983084, 22.083222838922214, 21.16829843076017, 20.29091831316938, 19.4495725929497, 18.642809451059666, 17.869233085914267, 17.127501838362615, 16.416326258564823, 15.734467243572054, 15.08073427355662, 14.453983616661315, 13.853116644050054, 13.277078184350726, 12.724854892538275, 12.195473717779736, 11.688000383441977, 11.20153792024167, 10.735225280938371, 10.288235964218307, 9.859776652171007, 9.449085984485352, 9.055433317767418, 8.678117514964931, 8.316465814540742, 7.969832728126641, 7.637598958821858, 7.3191703743014065, 7.0139770251576286, 6.721472183822382, 6.4411314200412715, 6.172451722139942, 5.914950642177723, 5.668165474290713, 5.431652466261996, 5.2049860597859485, 4.987758159522133, 4.779577430275124, 4.580068620855663]}, {\"mode\": \"lines\", \"name\": \"Recuperados\", \"type\": \"scatter\", \"x\": [0, 1, 2, 3, 4, 5, 6, 7, 8, 9, 10, 11, 12, 13, 14, 15, 16, 17, 18, 19, 20, 21, 22, 23, 24, 25, 26, 27, 28, 29, 30, 31, 32, 33, 34, 35, 36, 37, 38, 39, 40, 41, 42, 43, 44, 45, 46, 47, 48, 49, 50, 51, 52, 53, 54, 55, 56, 57, 58, 59, 60, 61, 62, 63, 64, 65, 66, 67, 68, 69, 70, 71, 72, 73, 74, 75, 76, 77, 78, 79, 80, 81, 82, 83, 84, 85, 86, 87, 88, 89, 90, 91, 92, 93, 94, 95, 96, 97, 98, 99, 100, 101, 102, 103, 104, 105, 106, 107, 108, 109, 110, 111, 112, 113, 114, 115, 116, 117, 118, 119, 120, 121, 122, 123, 124, 125, 126, 127, 128, 129, 130, 131, 132, 133, 134, 135, 136, 137, 138, 139, 140, 141, 142, 143, 144, 145, 146, 147, 148, 149, 150, 151, 152, 153, 154, 155, 156, 157, 158, 159, 160, 161, 162, 163, 164, 165, 166, 167, 168, 169, 170, 171, 172, 173, 174, 175, 176, 177, 178, 179], \"y\": [0.0, 0.05026387781554615, 0.10766543317203131, 0.17321563335126622, 0.2480678694237087, 0.33353774870726444, 0.4311256319903482, 0.5425420550171595, 0.6697368505982806, 0.8149317739059949, 0.9806575439636775, 1.1697956907136597, 1.3856256432558602, 1.631877709133997, 1.9127924888215952, 2.2331874235051563, 2.5985309039495097, 3.0150246787389556, 3.4896950157334836, 4.030493020043468, 4.64640437029809, 5.3475684845092415, 6.145406793211054, 7.052759346956094, 8.084028390180393, 9.255326764684453, 10.584628031577543, 12.091914027153734, 13.799314131956645, 15.731228871189739, 17.914428593415145, 20.378115949103854, 23.153938823468263, 26.275938439163692, 29.780415778104786, 33.70569859604277, 38.09179152778963, 42.979893559180056, 48.411770837408724, 54.42897891843502, 61.071937205425584, 68.37886945440093, 76.38463730473927, 85.11950783662, 94.60790967221577, 104.86724330834437, 115.90681810123537, 127.72698885835318, 140.31855822717353, 153.66249658020345, 167.73001286597568, 182.48297936088767, 197.87469464594048, 213.85093698423785, 230.35124707492633, 247.31036258476962, 264.65972446988275, 282.32897718204066, 300.2473944822253, 318.3451764669403, 336.5545791353284, 354.8108534383195, 373.05298611340163, 391.2242465108138, 409.27255257568953, 427.1506756036092, 444.81630665539024, 462.2320088031759, 479.3650793741372, 496.18734263976256, 512.6748943301421, 528.8078137784656, 544.5698574827748, 559.9481455049228, 574.9328495763529, 589.5168890901042, 603.6956399443675, 617.4666594846659, 630.8294294615823, 643.7851181656937, 656.336360662177, 668.4870613979535, 680.2422108973502, 691.6077252331609, 702.590297834916, 713.1972671440332, 723.4365026684038, 733.3163000233533, 742.8452885253428, 752.0323516112289, 760.8865554290943, 769.4170869546624, 777.633199589639, 785.5441662313668, 793.1592390088462, 800.4876138968102, 807.5384009795252, 814.3205989169971, 820.8430734969457, 827.1145398423438, 833.143547336551, 838.9384675409201, 844.50748444881, 849.8585868992321, 854.9995627438765, 859.937994701398, 864.6812575886281, 869.2365167708232, 873.6107277031291, 877.8106363399135, 881.8427803878601, 885.7134911627603, 889.4288961014009, 892.9949216694248, 896.4172967640257, 899.7015563623638, 902.853045537036, 905.8769236049461, 908.7781685501519, 911.5615814246951, 914.2317910349128, 916.7932586105147, 919.2502824343333, 921.6070026395245, 923.8674058189598, 926.035329832436, 928.1144683456142, 930.1083755042249, 932.020470415794, 933.8540416337901, 935.6122515285241, 937.2981405693832, 938.9146315539584, 940.4645336744668, 941.9505465573249, 943.3752641346268, 944.741178476753, 946.0506834466531, 947.3060782979564, 948.509571216327, 949.6632826256159, 950.7692485013611, 951.8294235418352, 952.8456842131963, 953.8198317588189, 954.7535950478652, 955.6486333488713, 956.5065390321868, 957.3288401381542, 958.1170028838884, 958.8724340755402, 959.5964834238131, 960.2904457959822, 960.9555633709341, 961.5930277176243, 962.2039818024766, 962.7895219166475, 963.3506995348807, 963.8885231042715, 964.4039597625997, 964.8979369944298, 965.3713442251232, 965.8250343511575, 966.2598252135172, 966.6765010063978, 967.0758136430342, 967.4584840647117, 967.8252034914236, 968.1766346301966, 968.5134128398219, 968.8361472406375, 969.1454217788647, 969.441796264746, 969.7258073561893, 969.9979694946214, 970.258775826582, 970.5086990762134, 970.7481923742932, 970.9776900683526, 971.1976084984664]}, {\"mode\": \"lines\", \"name\": \"Casos acumulados\", \"type\": \"scatter\", \"x\": [0, 1, 2, 3, 4, 5, 6, 7, 8, 9, 10, 11, 12, 13, 14, 15, 16, 17, 18, 19, 20, 21, 22, 23, 24, 25, 26, 27, 28, 29, 30, 31, 32, 33, 34, 35, 36, 37, 38, 39, 40, 41, 42, 43, 44, 45, 46, 47, 48, 49, 50, 51, 52, 53, 54, 55, 56, 57, 58, 59, 60, 61, 62, 63, 64, 65, 66, 67, 68, 69, 70, 71, 72, 73, 74, 75, 76, 77, 78, 79, 80, 81, 82, 83, 84, 85, 86, 87, 88, 89, 90, 91, 92, 93, 94, 95, 96, 97, 98, 99, 100, 101, 102, 103, 104, 105, 106, 107, 108, 109, 110, 111, 112, 113, 114, 115, 116, 117, 118, 119, 120, 121, 122, 123, 124, 125, 126, 127, 128, 129, 130, 131, 132, 133, 134, 135, 136, 137, 138, 139, 140, 141, 142, 143, 144, 145, 146, 147, 148, 149, 150, 151, 152, 153, 154, 155, 156, 157, 158, 159, 160, 161, 162, 163, 164, 165, 166, 167, 168, 169, 170, 171, 172, 173, 174, 175, 176, 177, 178, 179], \"y\": [1.0, 1.1922889492383748, 1.4118384517491058, 1.6624958746000396, 1.9486464105802184, 2.2752865464224463, 2.6481073266738693, 3.07358778865207, 3.559101294091031, 4.113033832605852, 4.744917196635848, 5.465577984550059, 6.287303358076339, 7.2240250679352975, 8.291522651349542, 9.50764674019095, 10.892562439532703, 12.469012812150558, 14.262601178667554, 16.302089824281826, 18.619711213044184, 21.251485723534653, 24.23753731683749, 27.622395309430686, 31.455266469347794, 35.790256938206376, 40.68651797049118, 46.208283473473756, 52.42476072788371, 59.40982914987421, 67.24149608651402, 76.00105435065447, 85.77188480491031, 96.6378504161129, 108.68123770466245, 121.98021936288254, 136.60584016858678, 152.6185671970239, 170.06449592875396, 188.97136311059398, 209.34458054432122, 231.1635637838173, 254.3786756833765, 278.9091251037693, 304.64214472147773, 331.4337110232568, 359.11096149783765, 387.4763241021611, 416.3131826261886, 445.3927961917444, 474.481954984292, 503.35086803542646, 531.7806846052722, 559.570143019221, 586.5409329118238, 612.54151345373, 637.4492934656558, 661.1712340972554, 683.6430578378611, 704.8273353191946, 724.7107523209388, 743.3008669692373, 760.6226387038463, 776.7149595783543, 791.6273650448911, 805.4170435799385, 818.1462170869331, 829.8799211166677, 840.6841813284079, 850.6245672291061, 859.7650821929391, 868.1673457274474, 875.8900246410244, 882.9884675216483, 889.5145024206706, 895.5163604654426, 901.0386964378494, 906.1226797565411, 910.8061347890759, 915.1237139263736, 919.1070921548373, 922.7851674754301, 926.1842706373864, 929.3283616132212, 932.2392286355796, 934.9366769040472, 937.4386984783982, 939.7616385130495, 941.9203476078146, 943.9283190849651, 945.7978176271642, 947.5399959065861, 949.1650002099966, 950.6820668315078, 952.0996092251785, 953.4252966970562, 954.6661255617036, 955.8284834309208, 956.9182069928934, 957.94063417396, 958.9006511533646, 959.802734584842, 960.650989807795, 961.4491851061603, 962.2007826891207, 962.9089665597133, 963.576667647053, 964.2065865085357, 964.8012137679847, 965.362848647406, 965.8936156220016, 966.3954795855886, 966.8702594604222, 967.3196406426696, 967.7451861549232, 968.1483468895162, 968.5304707771564, 968.892811239695, 969.2365347321991, 969.5627278293248, 969.8724034170747, 970.1665064485355, 970.4459193002047, 970.7114664382588, 970.9639189582105, 971.2039984147976, 971.4323806492055, 971.6496990308118, 971.856547618181, 972.0534839402849, 972.2410316021607, 972.4196826905153, 972.5898999268337, 972.7521187430398, 972.9067490824314, 973.0541771709903, 973.194767045524, 973.328862083833, 973.4567863437554, 973.5788457210303, 973.6953292358537, 973.8065100333441, 973.9126463807575, 974.0139826439564, 974.1107500719883, 974.203167640815, 974.2914427999309, 974.375772118101, 974.4563419765168, 974.5333291424532, 974.6069013191122, 974.6772176973697, 974.7444294126435, 974.8086800149841, 974.870105901975, 974.9288366950149, 974.9849956344272, 975.0386999183227, 975.0900610245131, 975.1391850435381, 975.1861729586481, 975.2311208772942, 975.2741203356428, 975.3152585312846, 975.3546185213627, 975.3922794575749, 975.4283167928384, 975.4628024502455, 975.495805004498, 975.5273898649795, 975.5576194244599, 975.586553198906, 975.614247986886, 975.640757998367, 975.6661349689122, 975.690428292844, 975.7136851359993, 975.7359505338154, 975.7572674986277, 975.777677119322]}],\n",
              "                        {\"legend\": {\"orientation\": \"h\", \"y\": -0.15}, \"template\": {\"data\": {\"bar\": [{\"error_x\": {\"color\": \"#2a3f5f\"}, \"error_y\": {\"color\": \"#2a3f5f\"}, \"marker\": {\"line\": {\"color\": \"#E5ECF6\", \"width\": 0.5}}, \"type\": \"bar\"}], \"barpolar\": [{\"marker\": {\"line\": {\"color\": \"#E5ECF6\", \"width\": 0.5}}, \"type\": \"barpolar\"}], \"carpet\": [{\"aaxis\": {\"endlinecolor\": \"#2a3f5f\", \"gridcolor\": \"white\", \"linecolor\": \"white\", \"minorgridcolor\": \"white\", \"startlinecolor\": \"#2a3f5f\"}, \"baxis\": {\"endlinecolor\": \"#2a3f5f\", \"gridcolor\": \"white\", \"linecolor\": \"white\", \"minorgridcolor\": \"white\", \"startlinecolor\": \"#2a3f5f\"}, \"type\": \"carpet\"}], \"choropleth\": [{\"colorbar\": {\"outlinewidth\": 0, \"ticks\": \"\"}, \"type\": \"choropleth\"}], \"contour\": [{\"colorbar\": {\"outlinewidth\": 0, \"ticks\": \"\"}, \"colorscale\": [[0.0, \"#0d0887\"], [0.1111111111111111, \"#46039f\"], [0.2222222222222222, \"#7201a8\"], [0.3333333333333333, \"#9c179e\"], [0.4444444444444444, \"#bd3786\"], [0.5555555555555556, \"#d8576b\"], [0.6666666666666666, \"#ed7953\"], [0.7777777777777778, \"#fb9f3a\"], [0.8888888888888888, \"#fdca26\"], [1.0, \"#f0f921\"]], \"type\": \"contour\"}], \"contourcarpet\": [{\"colorbar\": {\"outlinewidth\": 0, \"ticks\": \"\"}, \"type\": \"contourcarpet\"}], \"heatmap\": [{\"colorbar\": {\"outlinewidth\": 0, \"ticks\": \"\"}, \"colorscale\": [[0.0, \"#0d0887\"], [0.1111111111111111, \"#46039f\"], [0.2222222222222222, \"#7201a8\"], [0.3333333333333333, \"#9c179e\"], [0.4444444444444444, \"#bd3786\"], [0.5555555555555556, \"#d8576b\"], [0.6666666666666666, \"#ed7953\"], [0.7777777777777778, \"#fb9f3a\"], [0.8888888888888888, \"#fdca26\"], [1.0, \"#f0f921\"]], \"type\": \"heatmap\"}], \"heatmapgl\": [{\"colorbar\": {\"outlinewidth\": 0, \"ticks\": \"\"}, \"colorscale\": [[0.0, \"#0d0887\"], [0.1111111111111111, \"#46039f\"], [0.2222222222222222, \"#7201a8\"], [0.3333333333333333, \"#9c179e\"], [0.4444444444444444, \"#bd3786\"], [0.5555555555555556, \"#d8576b\"], [0.6666666666666666, \"#ed7953\"], [0.7777777777777778, \"#fb9f3a\"], [0.8888888888888888, \"#fdca26\"], [1.0, \"#f0f921\"]], \"type\": \"heatmapgl\"}], \"histogram\": [{\"marker\": {\"colorbar\": {\"outlinewidth\": 0, \"ticks\": \"\"}}, \"type\": \"histogram\"}], \"histogram2d\": [{\"colorbar\": {\"outlinewidth\": 0, \"ticks\": \"\"}, \"colorscale\": [[0.0, \"#0d0887\"], [0.1111111111111111, \"#46039f\"], [0.2222222222222222, \"#7201a8\"], [0.3333333333333333, \"#9c179e\"], [0.4444444444444444, \"#bd3786\"], [0.5555555555555556, \"#d8576b\"], [0.6666666666666666, \"#ed7953\"], [0.7777777777777778, \"#fb9f3a\"], [0.8888888888888888, \"#fdca26\"], [1.0, \"#f0f921\"]], \"type\": \"histogram2d\"}], \"histogram2dcontour\": [{\"colorbar\": {\"outlinewidth\": 0, \"ticks\": \"\"}, \"colorscale\": [[0.0, \"#0d0887\"], [0.1111111111111111, \"#46039f\"], [0.2222222222222222, \"#7201a8\"], [0.3333333333333333, \"#9c179e\"], [0.4444444444444444, \"#bd3786\"], [0.5555555555555556, \"#d8576b\"], [0.6666666666666666, \"#ed7953\"], [0.7777777777777778, \"#fb9f3a\"], [0.8888888888888888, \"#fdca26\"], [1.0, \"#f0f921\"]], \"type\": \"histogram2dcontour\"}], \"mesh3d\": [{\"colorbar\": {\"outlinewidth\": 0, \"ticks\": \"\"}, \"type\": \"mesh3d\"}], \"parcoords\": [{\"line\": {\"colorbar\": {\"outlinewidth\": 0, \"ticks\": \"\"}}, \"type\": \"parcoords\"}], \"pie\": [{\"automargin\": true, \"type\": \"pie\"}], \"scatter\": [{\"marker\": {\"colorbar\": {\"outlinewidth\": 0, \"ticks\": \"\"}}, \"type\": \"scatter\"}], \"scatter3d\": [{\"line\": {\"colorbar\": {\"outlinewidth\": 0, \"ticks\": \"\"}}, \"marker\": {\"colorbar\": {\"outlinewidth\": 0, \"ticks\": \"\"}}, \"type\": \"scatter3d\"}], \"scattercarpet\": [{\"marker\": {\"colorbar\": {\"outlinewidth\": 0, \"ticks\": \"\"}}, \"type\": \"scattercarpet\"}], \"scattergeo\": [{\"marker\": {\"colorbar\": {\"outlinewidth\": 0, \"ticks\": \"\"}}, \"type\": \"scattergeo\"}], \"scattergl\": [{\"marker\": {\"colorbar\": {\"outlinewidth\": 0, \"ticks\": \"\"}}, \"type\": \"scattergl\"}], \"scattermapbox\": [{\"marker\": {\"colorbar\": {\"outlinewidth\": 0, \"ticks\": \"\"}}, \"type\": \"scattermapbox\"}], \"scatterpolar\": [{\"marker\": {\"colorbar\": {\"outlinewidth\": 0, \"ticks\": \"\"}}, \"type\": \"scatterpolar\"}], \"scatterpolargl\": [{\"marker\": {\"colorbar\": {\"outlinewidth\": 0, \"ticks\": \"\"}}, \"type\": \"scatterpolargl\"}], \"scatterternary\": [{\"marker\": {\"colorbar\": {\"outlinewidth\": 0, \"ticks\": \"\"}}, \"type\": \"scatterternary\"}], \"surface\": [{\"colorbar\": {\"outlinewidth\": 0, \"ticks\": \"\"}, \"colorscale\": [[0.0, \"#0d0887\"], [0.1111111111111111, \"#46039f\"], [0.2222222222222222, \"#7201a8\"], [0.3333333333333333, \"#9c179e\"], [0.4444444444444444, \"#bd3786\"], [0.5555555555555556, \"#d8576b\"], [0.6666666666666666, \"#ed7953\"], [0.7777777777777778, \"#fb9f3a\"], [0.8888888888888888, \"#fdca26\"], [1.0, \"#f0f921\"]], \"type\": \"surface\"}], \"table\": [{\"cells\": {\"fill\": {\"color\": \"#EBF0F8\"}, \"line\": {\"color\": \"white\"}}, \"header\": {\"fill\": {\"color\": \"#C8D4E3\"}, \"line\": {\"color\": \"white\"}}, \"type\": \"table\"}]}, \"layout\": {\"annotationdefaults\": {\"arrowcolor\": \"#2a3f5f\", \"arrowhead\": 0, \"arrowwidth\": 1}, \"coloraxis\": {\"colorbar\": {\"outlinewidth\": 0, \"ticks\": \"\"}}, \"colorscale\": {\"diverging\": [[0, \"#8e0152\"], [0.1, \"#c51b7d\"], [0.2, \"#de77ae\"], [0.3, \"#f1b6da\"], [0.4, \"#fde0ef\"], [0.5, \"#f7f7f7\"], [0.6, \"#e6f5d0\"], [0.7, \"#b8e186\"], [0.8, \"#7fbc41\"], [0.9, \"#4d9221\"], [1, \"#276419\"]], \"sequential\": [[0.0, \"#0d0887\"], [0.1111111111111111, \"#46039f\"], [0.2222222222222222, \"#7201a8\"], [0.3333333333333333, \"#9c179e\"], [0.4444444444444444, \"#bd3786\"], [0.5555555555555556, \"#d8576b\"], [0.6666666666666666, \"#ed7953\"], [0.7777777777777778, \"#fb9f3a\"], [0.8888888888888888, \"#fdca26\"], [1.0, \"#f0f921\"]], \"sequentialminus\": [[0.0, \"#0d0887\"], [0.1111111111111111, \"#46039f\"], [0.2222222222222222, \"#7201a8\"], [0.3333333333333333, \"#9c179e\"], [0.4444444444444444, \"#bd3786\"], [0.5555555555555556, \"#d8576b\"], [0.6666666666666666, \"#ed7953\"], [0.7777777777777778, \"#fb9f3a\"], [0.8888888888888888, \"#fdca26\"], [1.0, \"#f0f921\"]]}, \"colorway\": [\"#636efa\", \"#EF553B\", \"#00cc96\", \"#ab63fa\", \"#FFA15A\", \"#19d3f3\", \"#FF6692\", \"#B6E880\", \"#FF97FF\", \"#FECB52\"], \"font\": {\"color\": \"#2a3f5f\"}, \"geo\": {\"bgcolor\": \"white\", \"lakecolor\": \"white\", \"landcolor\": \"#E5ECF6\", \"showlakes\": true, \"showland\": true, \"subunitcolor\": \"white\"}, \"hoverlabel\": {\"align\": \"left\"}, \"hovermode\": \"closest\", \"mapbox\": {\"style\": \"light\"}, \"paper_bgcolor\": \"white\", \"plot_bgcolor\": \"#E5ECF6\", \"polar\": {\"angularaxis\": {\"gridcolor\": \"white\", \"linecolor\": \"white\", \"ticks\": \"\"}, \"bgcolor\": \"#E5ECF6\", \"radialaxis\": {\"gridcolor\": \"white\", \"linecolor\": \"white\", \"ticks\": \"\"}}, \"scene\": {\"xaxis\": {\"backgroundcolor\": \"#E5ECF6\", \"gridcolor\": \"white\", \"gridwidth\": 2, \"linecolor\": \"white\", \"showbackground\": true, \"ticks\": \"\", \"zerolinecolor\": \"white\"}, \"yaxis\": {\"backgroundcolor\": \"#E5ECF6\", \"gridcolor\": \"white\", \"gridwidth\": 2, \"linecolor\": \"white\", \"showbackground\": true, \"ticks\": \"\", \"zerolinecolor\": \"white\"}, \"zaxis\": {\"backgroundcolor\": \"#E5ECF6\", \"gridcolor\": \"white\", \"gridwidth\": 2, \"linecolor\": \"white\", \"showbackground\": true, \"ticks\": \"\", \"zerolinecolor\": \"white\"}}, \"shapedefaults\": {\"line\": {\"color\": \"#2a3f5f\"}}, \"ternary\": {\"aaxis\": {\"gridcolor\": \"white\", \"linecolor\": \"white\", \"ticks\": \"\"}, \"baxis\": {\"gridcolor\": \"white\", \"linecolor\": \"white\", \"ticks\": \"\"}, \"bgcolor\": \"#E5ECF6\", \"caxis\": {\"gridcolor\": \"white\", \"linecolor\": \"white\", \"ticks\": \"\"}}, \"title\": {\"x\": 0.05}, \"xaxis\": {\"automargin\": true, \"gridcolor\": \"white\", \"linecolor\": \"white\", \"ticks\": \"\", \"title\": {\"standoff\": 15}, \"zerolinecolor\": \"white\", \"zerolinewidth\": 2}, \"yaxis\": {\"automargin\": true, \"gridcolor\": \"white\", \"linecolor\": \"white\", \"ticks\": \"\", \"title\": {\"standoff\": 15}, \"zerolinecolor\": \"white\", \"zerolinewidth\": 2}}}, \"title\": {\"font\": {\"color\": \"#7f7f7f\", \"family\": \"Arial\", \"size\": 22}, \"text\": \"Modelo SIR\"}, \"xaxis\": {\"title\": {\"text\": \"Dias\"}}, \"yaxis\": {\"title\": {\"text\": \"Popula\\u00e7\\u00e3o\"}}},\n",
              "                        {\"responsive\": true}\n",
              "                    ).then(function(){\n",
              "                            \n",
              "var gd = document.getElementById('83e29f5f-90a7-4935-ac69-10e7d295b06e');\n",
              "var x = new MutationObserver(function (mutations, observer) {{\n",
              "        var display = window.getComputedStyle(gd).display;\n",
              "        if (!display || display === 'none') {{\n",
              "            console.log([gd, 'removed!']);\n",
              "            Plotly.purge(gd);\n",
              "            observer.disconnect();\n",
              "        }}\n",
              "}});\n",
              "\n",
              "// Listen for the removal of the full notebook cells\n",
              "var notebookContainer = gd.closest('#notebook-container');\n",
              "if (notebookContainer) {{\n",
              "    x.observe(notebookContainer, {childList: true});\n",
              "}}\n",
              "\n",
              "// Listen for the clearing of the current output cell\n",
              "var outputEl = gd.closest('.output');\n",
              "if (outputEl) {{\n",
              "    x.observe(outputEl, {childList: true});\n",
              "}}\n",
              "\n",
              "                        })\n",
              "                };\n",
              "                \n",
              "            </script>\n",
              "        </div>\n",
              "</body>\n",
              "</html>"
            ]
          },
          "metadata": {
            "tags": []
          }
        }
      ]
    },
    {
      "cell_type": "markdown",
      "metadata": {
        "id": "zVzEZ3KokAbW",
        "colab_type": "text"
      },
      "source": [
        "É importante ressaltar que um modelo é apenas uma aproximação da realidade. O modelo SIR é um dos mais básicos, por essa razão ele não é o modelo ideal para fazer projeções. Podemos torná-lo mais próximo da realidade adicionando mais compartimentos (caixinhas) como por exemplo, um compartimento para os mortos, os quarentenados e os expostos, aqueles que foram expostos ao vírus mais ainda não estão infectando outras pessoas. \n",
        "\n"
      ]
    },
    {
      "cell_type": "code",
      "metadata": {
        "id": "Sfwsj1brj_mX",
        "colab_type": "code",
        "colab": {}
      },
      "source": [
        ""
      ],
      "execution_count": 0,
      "outputs": []
    },
    {
      "cell_type": "code",
      "metadata": {
        "id": "EgTZrsKwdOH-",
        "colab_type": "code",
        "colab": {}
      },
      "source": [
        ""
      ],
      "execution_count": 0,
      "outputs": []
    }
  ]
}