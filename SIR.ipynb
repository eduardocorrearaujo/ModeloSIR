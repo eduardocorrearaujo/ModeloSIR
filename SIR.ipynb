{
  "nbformat": 4,
  "nbformat_minor": 0,
  "metadata": {
    "colab": {
      "name": "SIR.ipynb",
      "provenance": [],
      "toc_visible": true,
      "authorship_tag": "ABX9TyMDnb/L+OgdeTx74e9bN7ez",
      "include_colab_link": true
    },
    "kernelspec": {
      "name": "python3",
      "display_name": "Python 3"
    }
  },
  "cells": [
    {
      "cell_type": "markdown",
      "metadata": {
        "id": "view-in-github",
        "colab_type": "text"
      },
      "source": [
        "<a href=\"https://colab.research.google.com/github/eduardocorrearaujo/ModeloSIR/blob/master/SIR.ipynb\" target=\"_parent\"><img src=\"https://colab.research.google.com/assets/colab-badge.svg\" alt=\"Open In Colab\"/></a>"
      ]
    },
    {
      "cell_type": "markdown",
      "metadata": {
        "id": "_OE9oGI6IDTF",
        "colab_type": "text"
      },
      "source": [
        "# Modelo Epidemiológico **SIR**\n",
        "A pandemia do COVID-19, também chamado de \"o novo coronavírus\", colocou em evidência a importância da matemática em nosso cotidiano. Tenho certeza que nesse período você já ouviu falar sobre projeções do avanço da doença e pico da curva de infectados. Porém, você sabe como a matemática pode ser aplicada para realizar essa análise?\n",
        "\n",
        "\n",
        "<center><img alt=\"covid\" width=\"10%\" src=\"https://github.com/eduardocorrearaujo/ModeloSIR/blob/master/imcovid.png\"></center>\n",
        "\n",
        "\n",
        "**Aprender a colocar imagem**\n",
        "\n",
        "<a href=\"https://br.freepik.com/fotos-vetores-gratis/medico\">Médico vetor criado por freepik - br.freepik.com</a>\n",
        "\n",
        "Nessa análise, podem ser aplicados modelos compartimentais, que dividem a população em \"caixinhas\" para assim, tentar entender o comportamento de uma doença. Um dos modelos compartimentais mais simples é o modelo epidemiológico **SIR**, proposto em 1927 por Kermack e McKendrick.\n",
        "\n",
        "Esse modelo divide a população em 3 grupos, **Suscetíveis (S)**, **Infectados (I)** e **Recuperados (R)**. Suscetíveis  representam a parcela da população que\n",
        "        não foi infectada, os infectados representam as pessoas que estão infectadas com o vírus, transmitindo para outras pessoas e os recuperados são aqueles que\n",
        "        já se curaram, ou seja, estavam infectados, mas agora estão curados. Veja o diagrama abaixo.\n",
       
        
        <p align="center">
        <img src="modeloSIR.png" >
        </p>

        <center><img alt=\"ModeloSIR\" width=\"10%\" src="https://github.com/eduardocorrearaujo/ModeloSIR/blob/master/modeloSIR.png"></center>
       
        "No digrama temos duas letras $\\beta$ e $\\gamma$ elas representam a taxa em que os indivíduos se movem de um grupo para o outro. O\n",
        "$\\beta$ representa a **taxa de contágio**, ela vai ser a responsável por \"mover\" uma pessoa do grupo dos suscetíveis para o grupo dos infectados. Ela está relacionada a\n",
        "a probabilidade de uma transmissão ocorrer decorrente do contato entre os indivíduos.  O $\\gamma$ representa a **taxa  de recuperação**, ela é responsável por \"mover\"\n",
        "o indivíduo do grupo dos infectados para o grupo dos recuperados. O inverso do $\\gamma$, ($1/\\gamma$) é muito importante, ele representa a **período infeccioso médio**, ou seja ele\n",
        "nos fornece uma estimativa para quanto tempo o indivíduo estará infectando outras pessoas.\n",
        "\n",
        "\"Matematicamente, o modelo SIR é definido pelo seguinte sistema de equações diferenciais ordinárias.\n",
        "\n",
        "\\begin{cases}\n",
        "S'(t) = \\dfrac{-\\beta S(t) I(t)}{N}\\\\\n",
        "I'(t) = \\dfrac{\\beta S(t) I(t)}{N} -  \\gamma I(t)\\\\\n",
        "R'(t) = \\gamma I(t)\n",
        "\\end{cases}\n",
        "                \n",
        "Sendo $\\beta$ a taxa de contágio, $\\gamma$ a taxa de recuperação e $N$ a populaçao total, para esse modelo, a taxa básica de\n",
        "        reproduçaõ do vírus é dada por $R_0 = \\dfrac{\\beta}{\\gamma}$,\n",
        "        sendo importante ressaltar que $\\dfrac{1}{\\gamma}$ é o perído infeccioso médio.\n",
        "\n",
        "Veja abaixo como podemos implementar esse modelo utilizando a linguagem de programação **python**. Nesse caso, como esse modelo não tem solução analítica conhecida vamos utilizar o python para gerar uma solução númerica.\n",
        "\n"
      ]
    },
    {
      "cell_type": "code",
      "metadata": {
        "id": "I3e8zBoDU7Pd",
        "colab_type": "code",
        "colab": {}
      },
      "source": [
        "#pacotes necessário para análise\n",
        "from scipy.integrate import odeint\n",
        "import numpy as np\n",
        "import plotly\n",
        "import plotly.graph_objects as go\n",
        "import plotly.offline as py"
      ],
      "execution_count": 0,
      "outputs": []
    },
    {
      "cell_type": "code",
      "metadata": {
        "id": "bYiW2q-UHNSC",
        "colab_type": "code",
        "colab": {}
      },
      "source": [
        "#Solução numérica do modelo SIR\n",
        "\n",
        "def SIR(t,beta,gama,N, i0,r0): \n",
        "    def dotSIR(y,t,beta,gama,N): # função que define o sistema de EDO's\n",
        "      S,I,R = y # # y é o vetor com as 3 equações S,I,R\n",
        "      dydt = [-beta*S*I/N,beta*S*I/N - gama*I, gama*I ] #vetor em que cada elemento é uma das equações\n",
        "      return dydt\n",
        "    #S = Pessoas que suscetíveis, ou seja, que podem ser infectadas.\n",
        "    #I = Pessoas que foram infectadas.\n",
        "    #R = Pessoas que se recuperaram.\n",
        "    #beta = Taxa de transmissão da doença.\n",
        "    #gama = Taxa de recuperação.\n",
        "    #N = População total.\n",
        "\n",
        "\n",
        "    # Como se trata de um sistema de EDO's precisamos das condições iniciais para resolvê-lo.\n",
        "    #Como esse modelo considera a populão constante s0 = N - i0 - r0\n",
        "    #s0 = número inicial de pessoas suscetíveis.\n",
        "    #i0 = número inicial de pessoas infectadas.\n",
        "    #r0 = número inicial de pessoas recuperadas.\n",
        "    s0 = N - i0 - r0\n",
        "    y0 = [s0,i0,r0] #vetor que armazena as condições iniciais do sistema\n",
        "\n",
        "    sol = odeint(dotSIR, y0,t, args=(beta,gama,N)) #O comando responsável por encontrar a solução numérica é o odeint\n",
        "    # O comando retorna uma matriz com as colunas determinadas pelo número de equações, nesse caso 3 e com o número \n",
        "    # de linhas referentes ao intervalo de tempo considerado.\n",
        "    S = sol[:,0] # primeira coluna da matriz sol referente aos Suscetíves.\n",
        "    I = sol[:,1] # segunda coluna da matriz referente aos infectados.\n",
        "    R = sol[:,2] # terceira coluna da matriz referente aos recuperados.\n",
        "    C = sol[:, 1] + sol[:,2] #variável que armazena a soma dos infectados + recuperados com o tempo para podermos analisar o\n",
        "                            #valor acumulado de pessoas infectadas no decorrer da epidemia\n",
        "\n",
        "    return C,S,I,R"
      ],
      "execution_count": 0,
      "outputs": []
    },
    {
      "cell_type": "markdown",
      "metadata": {
        "id": "E82uzbJlXsAN",
        "colab_type": "text"
      },
      "source": [
        "Agora que definimos a função que irá calcular a solução númerica do sistema podemos definir as condições iniciais do problema e usar a biblioteca **plotly** para visualisarmos o resultado."
      ]
    },
    {
      "cell_type": "code",
      "metadata": {
        "id": "sLpO9FYbcdgY",
        "colab_type": "code",
        "colab": {}
      },
      "source": [
        "t = np.arange(300)\n",
        "beta = 0.18\n",
        "gama = 0.047\n",
        "N = 1000\n",
        "i0 = 1\n",
        "r0 = 0\n",
        "solucao = SIR(t,beta,gama,N, i0,r0)\n",
        "\n",
        "\n",
        "\n",
        "trace1 = go.Scatter(x=t, y=solucao[1],\n",
        "                        mode='lines',\n",
        "                        name='Suscetíveis',)\n",
        "trace2 = go.Scatter(x=t, y=solucao[2],\n",
        "                        mode='lines',\n",
        "                        name='Infectados',)\n",
        "\n",
        "trace3 = go.Scatter(x=t, y=solucao[3],\n",
        "                        mode='lines',\n",
        "                        name='Recuperados',)\n",
        "trace4 = go.Scatter(x=t, y=solucao[0],\n",
        "                        mode='lines',\n",
        "                        name='Casos acumulados',)\n",
        "layout = go.Layout( title = 'Modelo SIR',\n",
        "                       titlefont = {'family': 'Arial',\n",
        "                                    'size': 22,\n",
        "                                    'color': '#7f7f7f'},\n",
        "                       xaxis = {'title': 'Dias'},\n",
        "                       yaxis = {'title': 'População'}, \n",
        "                       )\n",
        "\n",
        "data=[trace1,trace2,trace3,trace4]\n",
        "\n",
        "fig = go.Figure(data, layout = layout)\n",
        "       \n",
        "fig.update_layout(\n",
        "legend_orientation=\"h\",\n",
        "legend=dict(\n",
        "         y=-0.15,\n",
        "        ))"
      ],
      "execution_count": 0,
      "outputs": []
    },
    {
      "cell_type": "markdown",
      "metadata": {
        "id": "zVzEZ3KokAbW",
        "colab_type": "text"
      },
      "source": [
        "É importante ressaltar que um modelo é apenas uma aproximação da realidade. "
      ]
    },
    {
      "cell_type": "code",
      "metadata": {
        "id": "Sfwsj1brj_mX",
        "colab_type": "code",
        "colab": {}
      },
      "source": [
        ""
      ],
      "execution_count": 0,
      "outputs": []
    },
    {
      "cell_type": "code",
      "metadata": {
        "id": "EgTZrsKwdOH-",
        "colab_type": "code",
        "colab": {}
      },
      "source": [
        ""
      ],
      "execution_count": 0,
      "outputs": []
    }
  ]
}
